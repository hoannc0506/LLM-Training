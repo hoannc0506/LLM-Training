{
 "cells": [
  {
   "cell_type": "code",
   "execution_count": 1,
   "id": "3db0e7a5-6267-432a-872e-2ecea0ff6574",
   "metadata": {},
   "outputs": [],
   "source": [
    "import torch\n",
    "import os\n",
    "import transformers\n",
    "from tokenizers import AddedToken\n",
    "from transformers import AutoTokenizer, AutoModelForCausalLM, BitsAndBytesConfig\n",
    "from peft import LoraConfig, get_peft_model\n",
    "import fire\n",
    "from dataset_utils import LANG_TABLE"
   ]
  },
  {
   "cell_type": "code",
   "execution_count": 3,
   "id": "b01b7ae6-513d-47fb-b204-13b645944faf",
   "metadata": {},
   "outputs": [],
   "source": [
    "os.environ['CUDA_VISIBLE_DEVICES']='0'"
   ]
  },
  {
   "cell_type": "code",
   "execution_count": 2,
   "id": "8390c23e-0d42-4419-820f-696ea9b56797",
   "metadata": {},
   "outputs": [],
   "source": [
    "def load_quantized_model(model_name_or_path, device=\"cuda\"):\n",
    "    print(\"Loading tokenizer and model with quantization config from:\", model_name_or_path)\n",
    "    # load tokenizer\n",
    "    tokenizer = AutoTokenizer.from_pretrained(\n",
    "        model_name_or_path,\n",
    "        use_fast=True, # fast load tokenizer\n",
    "        padding_side='right' # custom for rotary position embedding\n",
    "    )\n",
    "\n",
    "    # BitsAndBytes config\n",
    "    bnb_config = BitsAndBytesConfig(\n",
    "        load_in_4bit=True,\n",
    "        bnb_4bit_use_double_quant=True,\n",
    "        bnb_4bit_quant_type=\"nf4\",\n",
    "        bnb_4bit_compute_dtype=torch.bfloat16\n",
    "    )\n",
    "\n",
    "    # load model\n",
    "    model = AutoModelForCausalLM.from_pretrained(\n",
    "        model_name_or_path,\n",
    "        quantization_config=bnb_config,\n",
    "        torch_dtype=torch.bfloat16,\n",
    "        device_map=device,\n",
    "        # attn_implementation=\"flash_attention_2\" # enable flash attention\n",
    "    )\n",
    "\n",
    "    return model, tokenizer"
   ]
  },
  {
   "cell_type": "code",
   "execution_count": 3,
   "id": "f65f3d2a-e224-43e8-972f-3c2a06925648",
   "metadata": {},
   "outputs": [],
   "source": [
    "model_path = \"models/gemma-2-2b-it\""
   ]
  },
  {
   "cell_type": "code",
   "execution_count": 4,
   "id": "dfad1417-784d-40b8-b81a-0e270c7a5036",
   "metadata": {},
   "outputs": [
    {
     "name": "stdout",
     "output_type": "stream",
     "text": [
      "Loading tokenizer and model with quantization config from: models/gemma-2-2b-it\n"
     ]
    },
    {
     "data": {
      "application/vnd.jupyter.widget-view+json": {
       "model_id": "0f21321ffa2c4d90b73e5fef1435188c",
       "version_major": 2,
       "version_minor": 0
      },
      "text/plain": [
       "Loading checkpoint shards:   0%|          | 0/2 [00:00<?, ?it/s]"
      ]
     },
     "metadata": {},
     "output_type": "display_data"
    }
   ],
   "source": [
    "model, tokenizer = load_quantized_model(model_path)"
   ]
  },
  {
   "cell_type": "code",
   "execution_count": 14,
   "id": "c0af6d8c-ff8d-47a9-a896-a7cc440a3bd7",
   "metadata": {},
   "outputs": [],
   "source": [
    "def get_translate_prompt(input_text, src_lang, tgt_lang):\n",
    "    prompt = (\n",
    "        f\"### Instruction: Translate this from {LANG_TABLE[src_lang]} to {LANG_TABLE[tgt_lang]}, no explaination\\n\"\n",
    "        f\"### Text:\\n{input_text}\\n\"\n",
    "        f\"### Translation:\\n\"\n",
    "    )\n",
    "    \n",
    "    return prompt\n",
    "\n",
    "def translate(model, tokenizer, input_text, pair='de-en'):\n",
    "    src_lang = pair.split('-')[0]\n",
    "    tgt_lang = pair.split('-')[1]\n",
    "    \n",
    "    inputs = tokenizer(\n",
    "        get_translate_prompt(input_text, src_lang, tgt_lang), \n",
    "        return_tensors=\"pt\"\n",
    "    ).to(model.device)\n",
    "    # import pdb;pdb.set_trace()\n",
    "    with torch.no_grad():\n",
    "        out_ids = model.generate(\n",
    "            **inputs,\n",
    "            max_new_tokens=256,\n",
    "            do_sample=True,\n",
    "            top_p=0.9,\n",
    "            top_k=40,\n",
    "            temperature=0.1,\n",
    "            repetition_penalty=1.05,\n",
    "        )\n",
    "        \n",
    "    return tokenizer.batch_decode(out_ids[:, inputs['input_ids'].size(1):], skip_special_tokens=True)[0].strip()"
   ]
  },
  {
   "cell_type": "code",
   "execution_count": 15,
   "id": "74a71fb9-f625-41ba-87fd-7f83364e5199",
   "metadata": {
    "scrolled": true
   },
   "outputs": [],
   "source": [
    "pair = \"de-en\"\n",
    "translate_src_text = \"Die Ware hat unter 20 Euro gekostet.\""
   ]
  },
  {
   "cell_type": "code",
   "execution_count": 16,
   "id": "e77efb11-a2c5-46a2-b683-e8a50523a13a",
   "metadata": {},
   "outputs": [],
   "source": [
    "reponse = translate(model, tokenizer, translate_src_text, pair)"
   ]
  },
  {
   "cell_type": "code",
   "execution_count": 17,
   "id": "8b670210-7bd2-4430-a8a3-d7036dc5c46f",
   "metadata": {},
   "outputs": [
    {
     "data": {
      "text/plain": [
       "'The goods cost under 20 Euros.'"
      ]
     },
     "execution_count": 17,
     "metadata": {},
     "output_type": "execute_result"
    }
   ],
   "source": [
    "reponse"
   ]
  },
  {
   "cell_type": "code",
   "execution_count": null,
   "id": "4a7e52f9-61a0-4add-90ac-b1625b5f9fa6",
   "metadata": {},
   "outputs": [],
   "source": []
  }
 ],
 "metadata": {
  "kernelspec": {
   "display_name": "llm-py310",
   "language": "python",
   "name": "llm-py310"
  },
  "language_info": {
   "codemirror_mode": {
    "name": "ipython",
    "version": 3
   },
   "file_extension": ".py",
   "mimetype": "text/x-python",
   "name": "python",
   "nbconvert_exporter": "python",
   "pygments_lexer": "ipython3",
   "version": "3.10.14"
  }
 },
 "nbformat": 4,
 "nbformat_minor": 5
}
